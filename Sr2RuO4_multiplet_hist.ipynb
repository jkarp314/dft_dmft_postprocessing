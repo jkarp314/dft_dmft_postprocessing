{
 "cells": [
  {
   "cell_type": "markdown",
   "metadata": {},
   "source": [
    "Here I give an exmaple of calculating the multiplet occurence probability histogram for $Sr_2RuO_4$. I assuming that the denisty matrix is calculated (see calc_density_matrix.py)"
   ]
  },
  {
   "cell_type": "code",
   "execution_count": 3,
   "metadata": {},
   "outputs": [],
   "source": [
    "import numpy as np\n",
    "import matplotlib.pyplot as plt\n",
    "from h5 import HDFArchive\n",
    "from triqs.gf import *\n",
    "from triqs.atom_diag import quantum_number_eigenvalues\n",
    "from triqs.operators import n\n",
    "from triqs.operators.util import make_operator_real\n",
    "from triqs.operators.util.observables import S_op, S2_op\n",
    "import pandas as pd\n",
    "pd.set_option('display.width', 130)"
   ]
  },
  {
   "cell_type": "code",
   "execution_count": 4,
   "metadata": {},
   "outputs": [],
   "source": [
    "with HDFArchive('density_matrix.h5', 'r') as A:\n",
    "    rho = A['rho']\n",
    "    h_loc_diag = A['h_loc_diag']"
   ]
  },
  {
   "cell_type": "code",
   "execution_count": 5,
   "metadata": {},
   "outputs": [],
   "source": [
    "#function written by @the-hampel to calculate observables for each fock state\n",
    "def get_multiplet_occ(rho, h_loc_diag, orb_names, spin_names = ['up','down'], off_diag = True):\n",
    "    \n",
    "    # res will be a list of dictionaries to be a panda data frame\n",
    "    res = []\n",
    "    \n",
    "    # get fundamental operators from atom_diag object\n",
    "    occ_operators = []\n",
    "    for op in h_loc_diag.fops:\n",
    "        occ_operators.append( n(op[0], op[1]) )\n",
    "    \n",
    "    # construct total occupation operator from list\n",
    "    N_op = sum(occ_operators)\n",
    "    \n",
    "    # create S2 and Sz operator\n",
    "    S2 = S2_op(spin_names, orb_names, off_diag=off_diag)\n",
    "    S2 = make_operator_real(S2)\n",
    "    \n",
    "    Sz=S_op('z', spin_names, orb_names, off_diag=off_diag)\n",
    "    Sz = make_operator_real(Sz)\n",
    "    \n",
    "    # get eigenvalues\n",
    "    S2_states = quantum_number_eigenvalues(S2, h_loc_diag)\n",
    "    Sz_states = quantum_number_eigenvalues(Sz, h_loc_diag)\n",
    "        \n",
    "    # get particle numbers from h_loc_diag\n",
    "    particle_numbers = quantum_number_eigenvalues(N_op, h_loc_diag)\n",
    "    \n",
    "    N_max = int(max(map(max, particle_numbers)))\n",
    "    multiplet_occ = np.zeros(N_max + 1)\n",
    "\n",
    "    for sub in range(0,h_loc_diag.n_subspaces):   \n",
    "        \n",
    "        # first get fock space spanning the subspace\n",
    "        fs_states = []\n",
    "        for ind, fs in enumerate(h_loc_diag.fock_states[sub]):\n",
    "            # get state in binary representation\n",
    "            state =int(bin(int(fs))[2:])\n",
    "            fmt='{0:0'+str(N_max)+'d}'\n",
    "            fs_states.append(\"|\"+fmt.format(state)+\">\")\n",
    "            \n",
    "        # now extract particle number etc.\n",
    "        for ind in range(h_loc_diag.get_subspace_dim(sub)):\n",
    "            \n",
    "            # get particle number\n",
    "            # carefully here to not cast to int as the particle number\n",
    "            # can be something like 1.999999996 and would get then 1! \n",
    "            particle_number = round(particle_numbers[sub][ind])\n",
    "            if abs(particle_number-particle_numbers[sub][ind]) > 1e-8:\n",
    "                raise ValueError('round error for particle number to large!',particle_numbers[sub][ind])\n",
    "            else:\n",
    "                particle_number = int(particle_number)\n",
    "            # energy of state\n",
    "            eng=h_loc_diag.energies[sub][ind]\n",
    "            \n",
    "            # construct eigenvector in fock state basis:\n",
    "            ev_state = ''\n",
    "            for i, elem in enumerate(h_loc_diag.unitary_matrices[sub][:,ind]):\n",
    "                ev_state += ' {:+1.4f}'.format(elem)+fs_states[i]\n",
    "            \n",
    "            # get spin state\n",
    "            ms = Sz_states[sub][ind]\n",
    "            s_square = S2_states[sub][ind]\n",
    "                                    \n",
    "            # add to data frame\n",
    "            res.append({\"subspace\" : sub, \n",
    "                        \"EV_n0\" : ind, \n",
    "                        \"N\" : particle_number, \n",
    "                        \"energy\" : eng,\n",
    "                        \"prob\": rho[sub][ind,ind], \n",
    "                        \"S2\": abs(round(s_square,2)),\n",
    "                        \"ms\": round(ms,1),\n",
    "                        \"state\": ev_state})\n",
    "    res = pd.DataFrame(res)\n",
    "        \n",
    "    return res"
   ]
  },
  {
   "cell_type": "code",
   "execution_count": 6,
   "metadata": {},
   "outputs": [
    {
     "name": "stdout",
     "output_type": "stream",
     "text": [
      "    subspace  EV_n0  N        energy          prob    S2   ms                             state\n",
      "0          0      0  4  0.000000e+00  5.162190e-02  2.00  1.0                   +1.0000|100111>\n",
      "1          1      0  4  3.552714e-15  5.164098e-02  2.00  0.0   +0.7071|101110> +0.7071|110011>\n",
      "2          1      1  4  8.000000e-01  7.856820e-03  0.00 -0.0   -0.7071|101110> +0.7071|110011>\n",
      "3          2      0  4  3.552714e-15  5.164734e-02  2.00 -1.0                   +1.0000|111010>\n",
      "4          3      0  4  8.511301e-02  6.259385e-02  2.00  1.0                   +1.0000|001111>\n",
      "..       ...    ... ..           ...           ...   ...  ...                               ...\n",
      "59        39      0  1  8.708455e+00  1.343115e-05  0.75  0.5                   +1.0000|000001>\n",
      "60        40      0  1  8.708455e+00  1.351825e-05  0.75  0.5                   +1.0000|000100>\n",
      "61        41      0  1  8.708455e+00  1.331782e-05  0.75 -0.5                   +1.0000|001000>\n",
      "62        42      0  1  8.708455e+00  1.341069e-05  0.75 -0.5                   +1.0000|010000>\n",
      "63        43      0  0  1.442120e+01  1.925632e-07  0.00  0.0                   +1.0000|000000>\n",
      "\n",
      "[64 rows x 8 columns]\n"
     ]
    }
   ],
   "source": [
    "res = get_multiplet_occ(rho, h_loc_diag, orb_names= range(3), spin_names=['up','down'], off_diag=False)\n",
    "print(res)"
   ]
  },
  {
   "cell_type": "markdown",
   "metadata": {},
   "source": [
    "Now that we have all of this information, we can use a Pandas pivot_table to get a spin-resolved histogram of particle numbers"
   ]
  },
  {
   "cell_type": "code",
   "execution_count": 7,
   "metadata": {},
   "outputs": [
    {
     "data": {
      "text/html": [
       "<div>\n",
       "<style scoped>\n",
       "    .dataframe tbody tr th:only-of-type {\n",
       "        vertical-align: middle;\n",
       "    }\n",
       "\n",
       "    .dataframe tbody tr th {\n",
       "        vertical-align: top;\n",
       "    }\n",
       "\n",
       "    .dataframe thead th {\n",
       "        text-align: right;\n",
       "    }\n",
       "</style>\n",
       "<table border=\"1\" class=\"dataframe\">\n",
       "  <thead>\n",
       "    <tr style=\"text-align: right;\">\n",
       "      <th>S2</th>\n",
       "      <th>0.00</th>\n",
       "      <th>0.75</th>\n",
       "      <th>2.00</th>\n",
       "      <th>3.75</th>\n",
       "    </tr>\n",
       "    <tr>\n",
       "      <th>N</th>\n",
       "      <th></th>\n",
       "      <th></th>\n",
       "      <th></th>\n",
       "      <th></th>\n",
       "    </tr>\n",
       "  </thead>\n",
       "  <tbody>\n",
       "    <tr>\n",
       "      <th>0</th>\n",
       "      <td>0.00</td>\n",
       "      <td>NaN</td>\n",
       "      <td>NaN</td>\n",
       "      <td>NaN</td>\n",
       "    </tr>\n",
       "    <tr>\n",
       "      <th>1</th>\n",
       "      <td>NaN</td>\n",
       "      <td>0.00</td>\n",
       "      <td>NaN</td>\n",
       "      <td>NaN</td>\n",
       "    </tr>\n",
       "    <tr>\n",
       "      <th>2</th>\n",
       "      <td>0.00</td>\n",
       "      <td>NaN</td>\n",
       "      <td>0.01</td>\n",
       "      <td>NaN</td>\n",
       "    </tr>\n",
       "    <tr>\n",
       "      <th>3</th>\n",
       "      <td>NaN</td>\n",
       "      <td>0.06</td>\n",
       "      <td>NaN</td>\n",
       "      <td>0.15</td>\n",
       "    </tr>\n",
       "    <tr>\n",
       "      <th>4</th>\n",
       "      <td>0.05</td>\n",
       "      <td>NaN</td>\n",
       "      <td>0.53</td>\n",
       "      <td>NaN</td>\n",
       "    </tr>\n",
       "    <tr>\n",
       "      <th>5</th>\n",
       "      <td>NaN</td>\n",
       "      <td>0.20</td>\n",
       "      <td>NaN</td>\n",
       "      <td>NaN</td>\n",
       "    </tr>\n",
       "    <tr>\n",
       "      <th>6</th>\n",
       "      <td>0.01</td>\n",
       "      <td>NaN</td>\n",
       "      <td>NaN</td>\n",
       "      <td>NaN</td>\n",
       "    </tr>\n",
       "  </tbody>\n",
       "</table>\n",
       "</div>"
      ],
      "text/plain": [
       "S2  0.00  0.75  2.00  3.75\n",
       "N                         \n",
       "0   0.00   NaN   NaN   NaN\n",
       "1    NaN  0.00   NaN   NaN\n",
       "2   0.00   NaN  0.01   NaN\n",
       "3    NaN  0.06   NaN  0.15\n",
       "4   0.05   NaN  0.53   NaN\n",
       "5    NaN  0.20   NaN   NaN\n",
       "6   0.01   NaN   NaN   NaN"
      ]
     },
     "execution_count": 7,
     "metadata": {},
     "output_type": "execute_result"
    }
   ],
   "source": [
    "tot = res.groupby(['N', 'S2']).sum()\n",
    "pivot_df = tot.pivot_table(index='N', columns='S2', values='prob')\n",
    "pivot_df.round(2)"
   ]
  },
  {
   "cell_type": "markdown",
   "metadata": {},
   "source": [
    "Now we plot the histogram as a colored bar chart:"
   ]
  },
  {
   "cell_type": "code",
   "execution_count": 8,
   "metadata": {},
   "outputs": [
    {
     "data": {
      "image/png": "[encoded data removed]",
      "text/plain": [
       "<Figure size 576x432 with 1 Axes>"
      ]
     },
     "metadata": {
      "needs_background": "light"
     },
     "output_type": "display_data"
    }
   ],
   "source": [
    "plt.figure(figsize = (8,6))\n",
    "plt.rc('font', size = 16)\n",
    "ax = plt.subplot(111)\n",
    "colors = ['C1', 'C0', 'C2', 'C3', 'C4', 'C5']\n",
    "pivot_df.plot.bar(stacked = True, rot=0, ax = ax, color = colors)\n",
    "plt.ylabel('prob')\n",
    "plt.legend(loc = 'upper left', title = 's(s+1)')\n",
    "plt.ylim(0,0.6)\n",
    "plt.show()"
   ]
  },
  {
   "cell_type": "markdown",
   "metadata": {},
   "source": [
    "We see that, as a Hund's metal, $Sr_2RuO_4$ is dominated by high spin configurations"
   ]
  },
  {
   "cell_type": "code",
   "execution_count": null,
   "metadata": {},
   "outputs": [],
   "source": []
  }
 ],
 "metadata": {
  "kernelspec": {
   "display_name": "triqs3",
   "language": "python",
   "name": "triqs3"
  },
  "language_info": {
   "codemirror_mode": {
    "name": "ipython",
    "version": 3
   },
   "file_extension": ".py",
   "mimetype": "text/x-python",
   "name": "python",
   "nbconvert_exporter": "python",
   "pygments_lexer": "ipython3",
   "version": "3.8.5"
  }
 },
 "nbformat": 4,
 "nbformat_minor": 4
}
